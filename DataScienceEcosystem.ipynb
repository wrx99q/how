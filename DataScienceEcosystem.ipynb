{
 "cells": [
  {
   "cell_type": "markdown",
   "id": "eaf8b153-ee0b-4313-a6a3-3fcbbc663460",
   "metadata": {},
   "source": [
    "Exercise 2: Data Science tools and Ecosystem"
   ]
  },
  {
   "cell_type": "markdown",
   "id": "738423e0-70d9-4c19-b6cc-9ca3cf3c6264",
   "metadata": {},
   "source": [
    "Exercise 3: Data science tools and ecosystems are summarized"
   ]
  },
  {
   "cell_type": "markdown",
   "id": "46429030-3770-4536-8951-0b029c5d504e",
   "metadata": {},
   "source": [
    "Exercise 4: Some of the data science languages are, R, Python, SQL, Julia"
   ]
  },
  {
   "cell_type": "markdown",
   "id": "82a9b17a-c085-4fda-85bd-35e4a0f3338f",
   "metadata": {},
   "source": [
    "Exercise 5: some of the libraries are Pytorch, Panda, Skikit Learn"
   ]
  },
  {
   "cell_type": "markdown",
   "id": "621337ab-fc13-4fdf-afa3-bfdc2cf7077f",
   "metadata": {},
   "source": [
    "Exercise 6: some of the tools are Jyputer Labs, RStudio, Visual Studio Codes"
   ]
  },
  {
   "cell_type": "markdown",
   "id": "005ffcad-127b-4909-90a8-74b5a6a8d072",
   "metadata": {},
   "source": [
    "Exercise 7: below are some arithmetics in python: "
   ]
  },
  {
   "cell_type": "code",
   "execution_count": 2,
   "id": "7e2d14dc-4168-4162-a140-982352d3162f",
   "metadata": {},
   "outputs": [
    {
     "data": {
      "text/plain": [
       "941192"
      ]
     },
     "execution_count": 2,
     "metadata": {},
     "output_type": "execute_result"
    }
   ],
   "source": [
    "#exercise 8:\n",
    "98**3"
   ]
  },
  {
   "cell_type": "code",
   "execution_count": 3,
   "id": "ac522640-5944-49bd-bc78-8bbfbe5c75d1",
   "metadata": {},
   "outputs": [
    {
     "data": {
      "text/plain": [
       "33.333333333333336"
      ]
     },
     "execution_count": 3,
     "metadata": {},
     "output_type": "execute_result"
    }
   ],
   "source": [
    "#exercise 9:\n",
    "200/6"
   ]
  },
  {
   "cell_type": "markdown",
   "id": "883433f7-65a7-4167-82b3-55bab99ac1c0",
   "metadata": {},
   "source": [
    "exercise 10: list popular languages for ds: Python, R, SQL, Julia"
   ]
  },
  {
   "cell_type": "markdown",
   "id": "9736a249-1e87-4490-8bd8-228dbf97733a",
   "metadata": {},
   "source": [
    "exercise 11: Author name: J.L. Stevenson"
   ]
  }
 ],
 "metadata": {
  "kernelspec": {
   "display_name": "Python 3 (ipykernel)",
   "language": "python",
   "name": "python3"
  },
  "language_info": {
   "codemirror_mode": {
    "name": "ipython",
    "version": 3
   },
   "file_extension": ".py",
   "mimetype": "text/x-python",
   "name": "python",
   "nbconvert_exporter": "python",
   "pygments_lexer": "ipython3",
   "version": "3.10.9"
  }
 },
 "nbformat": 4,
 "nbformat_minor": 5
}
